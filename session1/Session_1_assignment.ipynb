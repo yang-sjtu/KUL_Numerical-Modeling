{
 "cells": [
  {
   "cell_type": "code",
   "execution_count": 9,
   "metadata": {},
   "outputs": [],
   "source": [
    "%matplotlib inline"
   ]
  },
  {
   "cell_type": "code",
   "execution_count": 10,
   "metadata": {},
   "outputs": [],
   "source": [
    "import numpy as np\n",
    "import matplotlib.pyplot as plt\n",
    "import matplotlib.patches as mpatches"
   ]
  },
  {
   "cell_type": "code",
   "execution_count": 11,
   "metadata": {},
   "outputs": [
    {
     "name": "stdout",
     "output_type": "stream",
     "text": [
      "Populating the interactive namespace from numpy and matplotlib\n"
     ]
    }
   ],
   "source": [
    "%pylab inline\n",
    "pylab.rcParams['figure.figsize'] = (18, 6)"
   ]
  },
  {
   "cell_type": "markdown",
   "metadata": {},
   "source": [
    "## Step 1: assembly of the coefficient   \n",
    "\n",
    "Determine the unknown displacement $w$ in each node of the grid. This grid includes two rows\n",
    "of fictive nodes just outside the plate (section 1.3). This will first lead to a matrix in terms of\n",
    "the coordinates $x$ and $y$ (figure 1.3). However, for the implementation of the FDM, this matrix\n",
    "of unknowns is stores as a vector $\\texttt{W}$. Place the unknowns $w_{i,j}$ row per row behind eachother in $\\texttt{W}$,\n",
    "allowing the diffierence equation for each node to be written as a matrix. The coefficients in this\n",
    "equation, together with the position of the unknowns $w_{i,j}$ on the grid, are the so-called stencil of\n",
    "the diffierence operator. This stencil can be used to assembly the coefficient matrix $\\texttt{K}$. Place the\n",
    "stencil in the coefficient matrix $\\texttt{K}$ for each node in the plate and on the edge of the plate. There\n",
    "will be less equations than unknowns, as explained in section 1.3. Therefore empty rows have\n",
    "to be reserved in the coefficient matrix $\\texttt{K}$ and in the vector of unknowns $\\texttt{W}$. The introduction of\n",
    "the boundary conditions will yield the necessary extra equations."
   ]
  },
  {
   "cell_type": "markdown",
   "metadata": {},
   "source": [
    "#### tips: \n",
    "\n",
    "Python is row-major order (like C), while Matlab is column-major order(like Fortran)"
   ]
  },
  {
   "cell_type": "code",
   "execution_count": null,
   "metadata": {},
   "outputs": [],
   "source": [
    "#Step 1: filling in the stencil in the coefficient matrix K\n",
    "\n",
    "# initialize essential parameters\n",
    "# ... material properties\n",
    "# ... plate dimensions\n",
    "# ... amount of gridpoints\n",
    "N = 11          # amount of gridpoints INSIDE the plate in 1 direction\n",
    "# ... load\n",
    "\n",
    "# determine auxiliary variables\n",
    "n = ???\n",
    "\n",
    "# determine coefficients in the stencil\n",
    "\n",
    "# initialize the coefficient matrix K and the right hand side F\n",
    "K = np.zeros((n**2, n**2))\n",
    "F = np.zeros((n**2, 1))\n",
    "\n",
    "# the degrees of freedom are stored in the column vector W, for which:\n",
    "#    1)  K * W = F\n",
    "#    2)  W(k) = w(i,j) with w(i,j) the displacement of gridpoint (i,j)\n",
    "# fill in the stencil in the coefficient matrix K and the right hand side F. \n",
    "for i in ???:    # ............. loop over the rows INSIDE the plate, 0, 1, N+2, N+3 are ghost cells!!!\n",
    "    for j in ???:    # ............. loop over the gridpoints inside each row INSIDE the plate\n",
    "        \n",
    "        k = ???    # rownumber of the corresponding degree of freedom in W\n",
    "\n",
    "\n",
    "Kst = K      \n",
    "\n",
    "# visualisation of the coefficient matrix\n",
    "plt.figure(1)\n",
    "plt.xlabel(' percentage non-zero = ' '%.4f' % (np.count_nonzero(K)/(n**2))) # add x-label\n",
    "plt.title('coefficient matrix K')\n",
    "stencil_patch = mpatches.Patch(color='blue', label='stencil')\n",
    "plt.legend(handles=[stencil_patch])\n",
    "plt.spy(Kst, color='blue', markersize=2)\n",
    "plt.show()"
   ]
  },
  {
   "cell_type": "markdown",
   "metadata": {},
   "source": [
    "## Step 2: Introduction of the symmetry boundary conditions\n",
    "\n",
    "At a symmetry edge, two rows of nodes are located outside the plate. Find for each of these\n",
    "fictive nodes an algebraic equation, replacing an empty row in the coficient matric $\\texttt{K}$. The\n",
    "algebraic equations can be found from the mathematical description of the symmetry boundary\n",
    "condition (equation (1.7))."
   ]
  },
  {
   "cell_type": "code",
   "execution_count": null,
   "metadata": {},
   "outputs": [],
   "source": [
    "# Step 2: entering the symmetry boundary conditions\n",
    "\n",
    "# initialize the coefficient matrix Ks ( of symmetry boundary condition)\n",
    "Ks = np.zeros((n**2, n**2))\n",
    "# y-symmetry for boundary 1\n",
    "\n",
    "# x-symmetry for boundary 4\n",
    "\n",
    "# adapting the coefficient matrix K\n",
    "K = K + Ks\n",
    "\n",
    "# visualisation of the coefficient matrix\n",
    "plt.figure(1)\n",
    "plt.xlabel(' percentage non-zero = ' '%.4f' % (np.count_nonzero(K)/(n**2))) # add x-label\n",
    "plt.title('coefficient matrix K')\n",
    "symmetry_patch = mpatches.Patch(color='red', label='symmetry BC')\n",
    "plt.legend(handles=[stencil_patch, symmetry_patch])\n",
    "plt.spy(Kst, color='b', markersize=2)\n",
    "plt.spy(Ks, color='r', markersize=2)\n",
    "plt.show()"
   ]
  },
  {
   "cell_type": "markdown",
   "metadata": {},
   "source": [
    "## Step 3: Introduction of the boundary conditions for the clamped and simply sup-ported edge\n",
    "\n",
    "As for a symmetry edge, two rows of nodes are located outside the plate at the clamped and the simply supported edge. However, for these edges the values at the nodes on the edge are already known. In the partitioning step (step 5), it will become clear that the stencils of these nodes are not used. Therefore the second row of points outside the plate are not needed. Find only for the first row of fictive points outside the plate a system of algebraic equations, starting from the mathematical description (equations (1.5) and (1.6))."
   ]
  },
  {
   "cell_type": "code",
   "execution_count": null,
   "metadata": {},
   "outputs": [],
   "source": [
    "# Step 3: entering the simply supported and clamped boundary conditions\n",
    "\n",
    "# initialize the coefficient matrix Ki (clamped)\n",
    "#                coefficient matrix Ko (support)\n",
    "Ki = np.zeros((n**2, n**2))  # Ki is a sparse matrix\n",
    "Ko = np.zeros((n**2, n**2))  # Ko is a sparse matrix\n",
    "\n",
    "# Boundary condition of clamped boundary (2)\n",
    "# (contribution of boundary point itself will be accounted for by matrix partitioning)\n",
    "\n",
    "# Boundary condition of supported boundary (3)\n",
    "# (contribution of boundary point itself will be accounted for by matrix partitioning)\n",
    "\n",
    "# adapting the coefficient matrix\n",
    "K = K + Ki + Ko\n",
    "\n",
    "# visualization of the coefficient matrix\n",
    "plt.figure(1)\n",
    "plt.xlabel(' percentage non-zero = ' '%.4f' % (np.count_nonzero(K)/(n**2))) # add x-label\n",
    "plt.title('coefficient matrix K')\n",
    "clamped_patch = mpatches.Patch(color='m', label='clamped BC')\n",
    "supported_patch = mpatches.Patch(color='g', label='supported BC')\n",
    "plt.legend(handles=[stencil_patch, symmetry_patch, clamped_patch, supported_patch])\n",
    "plt.spy(Kst, color='b', markersize=2)\n",
    "plt.spy(Ks, color='r', markersize=2)\n",
    "plt.spy(Ki, color='m', markersize=2) \n",
    "plt.spy(Ko, color='g', markersize=2)\n",
    "plt.show()        "
   ]
  },
  {
   "cell_type": "markdown",
   "metadata": {},
   "source": [
    "## Step 4: Introduction of the contributions of the 4 corner nodes just outside the plate\n",
    "\n",
    "The 4 corner nodes, just outside the plate, are fictive points. Find an algebraic equation for each of these corner nodes. The edge whereto these nodes belong can be chosen freely."
   ]
  },
  {
   "cell_type": "code",
   "execution_count": null,
   "metadata": {},
   "outputs": [],
   "source": [
    "# Step 4: entering the contribution of the 4 cornerpoints just outside the plate\n",
    "\n",
    "# initialize the coefficient matrix K4 (4 cornerpoints)\n",
    "K4 = np.zeros((n**2, n**2))  # K4 is a sparse matrix\n",
    "\n",
    "# cornerpoint 1 (bottom left) -> boundary 1: y-symmetry\n",
    "\n",
    "# cornerpoint 2 (bottom right) -> boundary 2: clamped\n",
    "\n",
    "# cornerpoint 3 (top right) -> boundary 3: support\n",
    "\n",
    "# cornerpoint 4 (top left) -> boundary 4: x-symmetry\n",
    "\n",
    "# adapt the coefficient matrix\n",
    "K = K + K4\n",
    "\n",
    "# visualization of the coefficient matrix\n",
    "plt.figure(1)\n",
    "#plt.xlabel(' percentage non-zero = ' + str(K.nnz/(n**2))) # add x-label\n",
    "plt.xlabel(' percentage non-zero = ' '%.4f' % (np.count_nonzero(K)/(n**2))) # 给 x 轴添加标签\n",
    "#plt.ylabel('y') # add y-label\n",
    "plt.title('coefficient matrix K')\n",
    "coners_patch = mpatches.Patch(color='k', label='4 cornerpoints ')\n",
    "plt.legend(handles=[stencil_patch, symmetry_patch, clamped_patch, supported_patch, coners_patch])\n",
    "plt.spy(Kst, color='b', markersize=2)\n",
    "plt.spy(Ks, color='r', markersize=2)\n",
    "plt.spy(Ki, color='m', markersize=2) \n",
    "plt.spy(Ko, color='g', markersize=2)\n",
    "plt.spy(K4, color='k', markersize=2)\n",
    "plt.show()      "
   ]
  },
  {
   "cell_type": "markdown",
   "metadata": {},
   "source": [
    "## Step 5: Partitioning de coefficient matrix $\\texttt{K}$\n",
    "\n",
    "The partitioning of the coefficient matrix $\\texttt{K}$ accounts for the prescribed displacements on the\n",
    "simply supported and clamped edges, the super\n",
    "uous second row of dummy points at the simply\n",
    "supported and clamped edges and the 12 super\n",
    "uous nodes of the grid. The rows and columns\n",
    "corresponding to these nodes in the coefficient matrix $\\texttt{K}$ are super\n",
    "uous and have to be removed\n",
    "in order to obtain a nonsingular coefficient matrix. Within the Matlab environment, it is not\n",
    "necessary to physically remove these rows and columns. For now, it is sufficient to find the row\n",
    "numbers of these nodes in the vector $\\texttt{W}$ and to store them in the vector $\\texttt{k-weg}$."
   ]
  },
  {
   "cell_type": "code",
   "execution_count": null,
   "metadata": {},
   "outputs": [],
   "source": [
    "# Step 5: partitioning the coefficient matrix \n",
    "'''\n",
    " takes into account:\n",
    "    1) Dirichlet conditions on the boundary\n",
    "    2) 4*3 superfluous cornerpoints\n",
    "    3) superfluous gridpoints on 2nd row outside supported and clamped boundary\n",
    "'''\n",
    "\n",
    "# determine the indices, that stand for the row numbers in W ...\n",
    "\n",
    "# ... of the gridpoints ON the clamped and simply supported boundaries\n",
    "k1 = ???\n",
    "\n",
    "# ... of the 4*3 superfluous boundaries\n",
    "k2 = ???\n",
    "\n",
    "# ... of the superfluous gridpoints on the 2nd row outside the simple support and clamped boundaries\n",
    "k3 = ???\n",
    "    \n",
    "# concatenate all degrees of freedom that can be removed\n",
    "k_remove = set()    \n",
    "k_remove = k_remove.union(k1, k2, k3)\n",
    "\n",
    "# determine which dofs have to stay \n",
    "k_total = set(range(n**2))\n",
    "k_save = list(k_total.difference(k_remove))\n",
    "k_remove = list(k_remove)\n",
    "\n",
    "# visualization of the matrix partitioning\n",
    "plt.figure(1)\n",
    "plt.xlabel(' percentage non-zero = ' '%.4f' % (np.count_nonzero(K)/(n**2))) # add x-label\n",
    "plt.title('coefficient matrix K')\n",
    "plt.legend(handles=[stencil_patch, symmetry_patch, clamped_patch, supported_patch, coners_patch])\n",
    "plt.spy(Kst, color='b', markersize=2)\n",
    "plt.spy(Ks, color='r', markersize=2)\n",
    "plt.spy(Ki, color='m', markersize=2) \n",
    "plt.spy(Ko, color='g', markersize=2)\n",
    "plt.spy(K4, color='k', markersize=2)\n",
    "for k in range(1, len(k_remove)+1):\n",
    "    plt.plot([1,n**2+1],[k_remove[k-1],k_remove[k-1]], color='k', linewidth=0.6)\n",
    "    plt.plot([k_remove[k-1],k_remove[k-1]],[1,n**2], color='k', linewidth=0.6)\n",
    "plt.show()"
   ]
  },
  {
   "cell_type": "code",
   "execution_count": 31,
   "metadata": {},
   "outputs": [],
   "source": [
    "# Import module in postprocess.py for plotting\n",
    "import postprocess"
   ]
  },
  {
   "cell_type": "markdown",
   "metadata": {},
   "source": [
    "## Step 6: Solving the system of algebraic equations\n",
    "\n",
    "Solve the partitioned system of algebraic equations. Store the solution vector $\\texttt{W}$ in an N x N\n",
    "matrix $\\texttt{w}$ for visualization and interpretation. For more information on how to fill this matrix $\\texttt{w}$,\n",
    "use the 'help' function of the Matlab command surf. Use the program $\\texttt{ref_opl}$ to visualize\n",
    "the results and to compare them with the results of a more detailed finite element simulation.\n",
    "Draw conclusions on the accuracy of the obtained solution."
   ]
  },
  {
   "cell_type": "markdown",
   "metadata": {},
   "source": [
    "#### tips:\n",
    "the linear system can be solved for specific list of index"
   ]
  },
  {
   "cell_type": "code",
   "execution_count": 25,
   "metadata": {},
   "outputs": [],
   "source": [
    "# Step 6: solve the partitioned linear system K'*W'=F' and visualize\n",
    "\n",
    "# initialize the total solution vector W\n",
    "W = np.zeros((n**2, 1))\n",
    "\n",
    "# solve the partitioned system, k_save indexed only\n",
    "\n",
    "\n",
    "# convert the solution vector W to a 2D matrix to be visualized with surf\n",
    "w = np.zeros((N, N))\n",
    "for i ???:\n",
    "    for j ???:\n",
    "\n",
    "x = np.zeros(N)\n",
    "for i in range(N):\n",
    "    x[i] = i*dx\n",
    "\n",
    "postprocess.surf_plot(x, x, w)"
   ]
  },
  {
   "cell_type": "markdown",
   "metadata": {},
   "source": [
    "## Step 7: Postprocessing - calculation of the stresses\n",
    "\n",
    "Calculate the stresses at the lower side of the plate $z=-t/2$ according to the dfinitions of\n",
    "equation (1.8). The program $\\texttt{ref_opl}$ calculates the Von Mises stress. The stresses consist\n",
    "of combinations of derivatives of the calculated deformations. Find the stencil for each stress\n",
    "component and use it to assemble a new coficient matrix $\\texttt{KS}$. Calculate the stress components\n",
    "with a simple matrix-vector multiplication and save the results in matrix form (as in step 6)\n",
    "for the visualization and interpretation using the program $\\texttt{ref_opl}$. Draw conclusions on the\n",
    "accuracy of the obtained solution."
   ]
  },
  {
   "cell_type": "code",
   "execution_count": null,
   "metadata": {},
   "outputs": [],
   "source": [
    "# Step 7: postprocessing - stress calculations for gridpoints inside the plate\n",
    "    \n",
    "# enter the location at which stress is calculated\n",
    "z = -.5 * t    # bottom side\n",
    " \n",
    "# determine auxiliary variables \n",
    "S_f = ???    # stress factor in N/m\n",
    "\n",
    "# determine coefficients in stencil for stress calculation\n",
    " \n",
    "# initialize matrices KSxx, KSyy, KSxy\n",
    "KSxx = np.zeros((n**2, n**2))\n",
    "KSyy = np.zeros((n**2, n**2))\n",
    "KSxy = np.zeros((n**2, n**2))\n",
    " \n",
    "#  enter the stencil in the coefficient matrices\n",
    "for i in ???:\n",
    "    for j in ???: \n",
    "        \n",
    "#apply stress factor\n",
    "KSxx = S_f * KSxx\n",
    "KSyy = S_f * KSyy\n",
    "KSxy = S_f * KSxy\n",
    " \n",
    "# visualization of the coefficient matrices\n",
    "plt.figure(2)\n",
    "plt.suptitle('coefficient matrix')\n",
    "ax1 = plt.subplot(331)\n",
    "plt.spy(KSxx, color='blue', markersize=2)\n",
    "#plt.setp(ax1.get_xticklabels(), fontsize=6)\n",
    "plt.xlabel(' pct. non-zero = ' '%.4f' % (np.count_nonzero(KSxx)/(n**2))) # add x-label\n",
    "plt.title('KSxx', y=1.16)\n",
    "#stencil_patch = mpatches.Patch(color='blue', label='stencil')\n",
    "#plt.legend(handles=[stencil_patch])\n",
    "\n",
    "ax2 = plt.subplot(332)\n",
    "plt.spy(KSyy, color='blue', markersize=2)\n",
    "#plt.setp(ax2.get_xticklabels(), fontsize=6)\n",
    "plt.xlabel(' pct. non-zero = ' '%.4f' % (np.count_nonzero(KSyy)/(n**2))) # add x-label\n",
    "plt.title('KSyy', y=1.16)\n",
    "\n",
    "ax3 = plt.subplot(333)\n",
    "plt.spy(KSxy, color='blue', markersize=2)\n",
    "#plt.setp(ax3.get_xticklabels(), fontsize=6)\n",
    "plt.xlabel(' pct. non-zero = ' '%.4f' % (np.count_nonzero(KSxy)/(n**2))) # add x-label\n",
    "plt.title('KSxy', y=1.16)\n",
    "plt.show()"
   ]
  },
  {
   "cell_type": "code",
   "execution_count": null,
   "metadata": {},
   "outputs": [],
   "source": [
    "# calculate the stresses\n",
    "Sxx = ???\n",
    "Syy = ???\n",
    "Sxy = ???\n",
    " \n",
    "# save solution vectors in a matrix, to be visualized with surf\n",
    "s_xx = np.zeros((N,N))\n",
    "s_yy = np.zeros((N,N))\n",
    "s_xy = np.zeros((N,N))\n",
    "for j in ???:\n",
    "    for i in ???:\n",
    "        k = i + n*j\n",
    "\n",
    "# plot the results\n",
    "postprocess.surf_plot(x, x, w, s_xx, s_yy, s_xy)"
   ]
  },
  {
   "cell_type": "markdown",
   "metadata": {},
   "source": [
    "## Step 8: Postprocessing - check the boundary conditions\n",
    "\n",
    "Check if all boundary conditions are satisfied."
   ]
  },
  {
   "cell_type": "code",
   "execution_count": null,
   "metadata": {},
   "outputs": [],
   "source": [
    "# Step 8: postprocessing - controlling the boundary conditions\n",
    "# y symmetry for boundary 1 \n",
    "for i in ???:\n",
    "\n",
    "# clamped boundary for boundary 2\n",
    "for j in ???:\n",
    "    \n",
    "# simply supported boundary for boundary 3\n",
    "for i in ???:\n",
    "    \n",
    "# x symmetry for boundary 4\n",
    "for j in ???:"
   ]
  }
 ],
 "metadata": {
  "celltoolbar": "Raw Cell Format",
  "kernelspec": {
   "display_name": "Python 3",
   "language": "python",
   "name": "python3"
  },
  "language_info": {
   "codemirror_mode": {
    "name": "ipython",
    "version": 3
   },
   "file_extension": ".py",
   "mimetype": "text/x-python",
   "name": "python",
   "nbconvert_exporter": "python",
   "pygments_lexer": "ipython3",
   "version": "3.5.2"
  }
 },
 "nbformat": 4,
 "nbformat_minor": 1
}
